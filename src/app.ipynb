{
 "cells": [
  {
   "cell_type": "markdown",
   "metadata": {},
   "source": [
    "## Overview\n",
    "\n",
    "This homework assignment continues to use school data from the previous assignment.\n",
    "\n",
    "Download the 2015-16 district-level fiscal data from the National Center for Education Statistics’ Common Core of Data:\n",
    "• https://nces.ed.gov/ccd/f33agency.asp\n",
    "\n",
    "The 2015-16 performance statistics on graduation rate and state assessments on mathematics and reading/language arts are available from the EDFacts website:\n",
    "• https://www2.ed.gov/about/inits/ed/edfacts/data-files/index.html\n",
    "\n",
    "Additionally, the 2015-16 district-level “universe” survey data provides statistics about enrollment disaggregated by demographics like gender, race, disability status, etc:\n",
    "• https://nces.ed.gov/ccd/pubagency.asp\n",
    "\n",
    "These datasets can be linked based on the LEA IDs."
   ]
  },
  {
   "cell_type": "code",
   "execution_count": 39,
   "metadata": {
    "collapsed": true
   },
   "outputs": [],
   "source": [
    "import numpy as np\n",
    "import pandas as pd \n",
    "import matplotlib.pyplot as plt\n",
    "import seaborn as sns\n",
    "import random\n",
    "\n",
    "%matplotlib inline"
   ]
  },
  {
   "cell_type": "code",
   "execution_count": 40,
   "metadata": {
    "collapsed": true
   },
   "outputs": [],
   "source": [
    "def load_data():\n",
    "    fiscal_df = pd.read_csv('../input/Sdf16_1a.txt', sep='\\t')\n",
    "    math_df = pd.read_csv('../input//math-achievement-lea-sy2015-16.csv')\n",
    "    arts_df = pd.read_csv('../input/rla-achievement-lea-sy2015-16.csv')\n",
    "    demographics_df = pd.read_csv('../input/ccd_lea_052_1516_w_1a_011717.csv')\n",
    "    disability_df = pd.read_csv('../input/ccd_lea_002089_1516_w_1a_011717.csv')\n",
    "    return fiscal_df, math_df, arts_df, demographics_df, disability_df"
   ]
  },
  {
   "cell_type": "code",
   "execution_count": 41,
   "metadata": {},
   "outputs": [],
   "source": [
    "fiscal_df, math_df, arts_df, demographics_df, disability_df = load_data()\n",
    "fiscal_df = fiscal_df[fiscal_df['TFEDREV']>0]"
   ]
  },
  {
   "cell_type": "markdown",
   "metadata": {},
   "source": [
    "### Problem 1\n",
    "\n",
    "For the districts you selected for budget cuts in HW 3 Problem 4, calculate and visualize the proportion of\n",
    "each district’s total funding that will be lost.\n",
    "\n",
    "Which districts will be affected by your budget cuts the most?"
   ]
  },
  {
   "cell_type": "code",
   "execution_count": 42,
   "metadata": {
    "collapsed": true
   },
   "outputs": [],
   "source": [
    "def unblur_column(math_df, column_name):\n",
    "    column_new_values = []\n",
    "    column_old_values = math_df[column_name]\n",
    "#     column_old_values = ['42', '45-49', 'LT50', 'LE20', 'GT20', 'GE50']\n",
    "    for value in column_old_values:\n",
    "        new_value = None\n",
    "        if '-' in value:\n",
    "            value_array = value.split('-')\n",
    "            new_value = random.randint(int(value_array[0]), int(value_array[1]))\n",
    "        elif 'LT' in value:\n",
    "            begin = 0\n",
    "            end = int(value[2:])\n",
    "            new_value = random.randrange(begin, end)\n",
    "        elif 'LE' in value:\n",
    "            begin = 0\n",
    "            end = int(value[2:])\n",
    "            new_value = random.randint(begin, end)\n",
    "        elif 'GT' in value:\n",
    "            begin = int(value[2:]) + 1\n",
    "            end = 100\n",
    "            new_value = random.randint(begin, end)\n",
    "        elif 'GE' in value:\n",
    "            begin = int(value[2:])\n",
    "            end = 100\n",
    "            new_value = random.randint(begin, end)\n",
    "        elif 'PS' in value:\n",
    "            new_value = random.randint(0, 100)\n",
    "        else:\n",
    "            new_value = int(value)\n",
    "        column_new_values.append(new_value)\n",
    "    return column_new_values"
   ]
  },
  {
   "cell_type": "code",
   "execution_count": 43,
   "metadata": {
    "collapsed": true
   },
   "outputs": [],
   "source": [
    "def run_1_1(fiscal_df):\n",
    "    sum_value = fiscal_df[['TFEDREV']].sum().values\n",
    "    result = sum_value * 0.15\n",
    "    return result"
   ]
  },
  {
   "cell_type": "code",
   "execution_count": 44,
   "metadata": {
    "collapsed": true
   },
   "outputs": [],
   "source": [
    "def run_1_2(fiscal_df, math_df, fifteen_percent_fed_budget):\n",
    "    # Get the schools based on the criteria\n",
    "    input_df = math_df[['LEAID', 'ALL_MTH00PCTPROF_1516']]\n",
    "    input_df['ALL_MTH00PCTPROF_1516'] = unblur_column(math_df, 'ALL_MTH00PCTPROF_1516')\n",
    "    \n",
    "    # Get the 75 percent quartile as the cutoff criteria\n",
    "    seventy_five_percent_quantile = input_df['ALL_MTH00PCTPROF_1516'].quantile(.75)\n",
    "    filtered_df = input_df[input_df['ALL_MTH00PCTPROF_1516']<seventy_five_percent_quantile]\n",
    "\n",
    "    # Get the lead_ids for which budget has been approved\n",
    "    approved_lead_ids = list(filtered_df['LEAID'].unique())\n",
    "    \n",
    "    result_df = fiscal_df[fiscal_df['LEAID'].isin(approved_lead_ids)][['LEAID', 'NAME', 'TFEDREV']]\n",
    "    result_df['percentage_cut'] = result_df['TFEDREV']/result_df['TFEDREV'].sum()\n",
    "    result_df['cut_amount'] = result_df['percentage_cut'] * fifteen_percent_fed_budget\n",
    "    result_df['cut_proportion'] = result_df['cut_amount']/result_df['TFEDREV']\n",
    "    result_df.sort_values(by='percentage_cut', ascending=True, inplace=True)\n",
    "    print(result_df)\n",
    "    result_df.sort_values(by='cut_proportion', ascending=True, inplace=True)\n",
    "    \n",
    "    return result_df"
   ]
  },
  {
   "cell_type": "code",
   "execution_count": 45,
   "metadata": {
    "collapsed": true
   },
   "outputs": [],
   "source": [
    "def run_1(fiscal_df, math_df):\n",
    "    fifteen_percent_fed_budget = run_1_1(fiscal_df)\n",
    "    print(\"15 percent of federal budget is: {}\".format(fifteen_percent_fed_budget))\n",
    "    result_df = run_1_2(fiscal_df, math_df, fifteen_percent_fed_budget)\n",
    "    print(result_df[['LEAID', 'NAME', 'percentage_cut', 'cut_amount', 'cut_proportion']])"
   ]
  },
  {
   "cell_type": "code",
   "execution_count": 46,
   "metadata": {},
   "outputs": [
    {
     "name": "stdout",
     "output_type": "stream",
     "text": [
      "15 percent of federal budget is: [8.3404113e+09]\n",
      "         LEAID                               NAME     TFEDREV  percentage_cut  \\\n",
      "7027   2601042                 Branch Line School        1000    5.616731e-08   \n",
      "6794   2600121       Honey Creek Community School        2000    1.123346e-07   \n",
      "727     400931                ECA - Arizona  Inc.        2000    1.123346e-07   \n",
      "9157   3004920                      Broadview H S        3000    1.685019e-07   \n",
      "391     400278  Deer Valley Charter Schools  Inc.        3000    1.685019e-07   \n",
      "...        ...                                ...         ...             ...   \n",
      "7232   2612000       Detroit City School District   193905000    1.089112e-02   \n",
      "15635  4700148                      Shelby County   212572000    1.193960e-02   \n",
      "15038  4218990               Philadelphia City SD   271369000    1.524207e-02   \n",
      "9784   3200060       CLARK COUNTY SCHOOL DISTRICT   277628000    1.559362e-02   \n",
      "1904    622710                Los Angeles Unified  1091400000    6.130100e-02   \n",
      "\n",
      "         cut_amount  cut_proportion  \n",
      "7027   4.684585e+02        0.468458  \n",
      "6794   9.369169e+02        0.468458  \n",
      "727    9.369169e+02        0.468458  \n",
      "9157   1.405375e+03        0.468458  \n",
      "391    1.405375e+03        0.468458  \n",
      "...             ...             ...  \n",
      "7232   9.083644e+07        0.468458  \n",
      "15635  9.958115e+07        0.468458  \n",
      "15038  1.271251e+08        0.468458  \n",
      "9784   1.300572e+08        0.468458  \n",
      "1904   5.112756e+08        0.468458  \n",
      "\n",
      "[5635 rows x 6 columns]\n",
      "         LEAID                              NAME  percentage_cut  \\\n",
      "366     400235   Excalibur Charter Schools  Inc.        0.000043   \n",
      "14428  4109530                   Perrydale SD 21        0.000008   \n",
      "9875   3302520           Cornish School District        0.000004   \n",
      "9216   3008700                    Deer Park Elem        0.000004   \n",
      "245     400026  Heber-Overgaard Unified District        0.000043   \n",
      "...        ...                               ...             ...   \n",
      "8970   2931050                  WARREN CO. R-III        0.000127   \n",
      "18591  5514910        Tomah Area School District        0.000144   \n",
      "14865  4210710                Gettysburg Area SD        0.000129   \n",
      "1792    617580                Horicon Elementary        0.000004   \n",
      "6528   2505280                        Gloucester        0.000139   \n",
      "\n",
      "         cut_amount  cut_proportion  \n",
      "366    3.621184e+05        0.468458  \n",
      "14428  6.933185e+04        0.468458  \n",
      "9875   3.466593e+04        0.468458  \n",
      "9216   3.466593e+04        0.468458  \n",
      "245    3.621184e+05        0.468458  \n",
      "...             ...             ...  \n",
      "8970   1.063401e+06        0.468458  \n",
      "18591  1.204407e+06        0.468458  \n",
      "14865  1.072770e+06        0.468458  \n",
      "1792   3.372901e+04        0.468458  \n",
      "6528   1.161308e+06        0.468458  \n",
      "\n",
      "[5635 rows x 5 columns]\n"
     ]
    },
    {
     "name": "stderr",
     "output_type": "stream",
     "text": [
      "/Users/karangm/PycharmProjects/ds5500-hw4/venv/lib/python3.6/site-packages/ipykernel_launcher.py:4: SettingWithCopyWarning: \n",
      "A value is trying to be set on a copy of a slice from a DataFrame.\n",
      "Try using .loc[row_indexer,col_indexer] = value instead\n",
      "\n",
      "See the caveats in the documentation: http://pandas.pydata.org/pandas-docs/stable/user_guide/indexing.html#returning-a-view-versus-a-copy\n",
      "  after removing the cwd from sys.path.\n"
     ]
    }
   ],
   "source": [
    "run_1(fiscal_df, math_df)"
   ]
  },
  {
   "cell_type": "markdown",
   "metadata": {
    "collapsed": true
   },
   "source": [
    "Philadelphia City SD, CLARK COUNTY SCHOOL DISTRICT & Los Angeles Unified will have the highest percentage of budget cuts in amount. \n",
    "\n",
    "But if take the proportions, for all the schools which has budget cuts it will have the same proportion because of the solution proposed.\n",
    "\n",
    "To explain on that, to do the budget cut after we filtered schools on a particular criteria,\n",
    "1. Calculate the 15% of the total budget amount -> fifteen_percent_fed_budget\n",
    "2. For each potential case, we take the ('TFEDREV' of a case)/Sum of all ('TFEDREV' of a case) -> percentage_cut\n",
    "3. percentage_cut * fifteen_percent_fed_budget to get value for each potential case -> budget_cut_for_a_case\n",
    "4. If we put all in one formula:\n",
    "   (('TFEDREV' of a case)/Sum of all ('TFEDREV' of a case)) * fifteen_percent_fed_budget =  budget_cut_for_a_case\n",
    "5. To calculate proportion, we have to calculate budget_cut_for_a_case/('TFEDREV' of a case) which will be equal to fifteen_percent_fed_budget/Sum of all ('TFEDREV' of a case)) which is a constant"
   ]
  },
  {
   "cell_type": "markdown",
   "metadata": {},
   "source": [
    "### Problem 2\n",
    "\n",
    "A common problem with purely data-driven solutions is that they can inadvertently perpetuate hidden pre-existing biases in the data, and further disadvantage groups that are already disadvantaged. Calculate the proportion of enrolled students by race for each district, then visualize the distributions of these for districts that received budget cuts versus districts that did not receive budget cuts. Comment on whether the the distributions appear to be the same or different. Did your selection include any hidden biases, or manage to avoid them?"
   ]
  },
  {
   "cell_type": "code",
   "execution_count": 47,
   "metadata": {
    "collapsed": true
   },
   "outputs": [],
   "source": [
    "def get_proportion_2_1(df):\n",
    "    df['BL_Proportion'] = df['BL'] / df['TOTAL']\n",
    "    df['AM_Proportion'] = df['AM'] / df['TOTAL']\n",
    "    df['HP_Proportion'] = df['HP'] / df['TOTAL']\n",
    "    df['AS_Proportion'] = df['AS'] / df['TOTAL']\n",
    "    df['WH_Proportion'] = df['WH'] / df['TOTAL']\n",
    "    df['HI_Proportion'] = df['HI'] / df['TOTAL']\n",
    "    df['TR_Proportion'] = df['TR'] / df['TOTAL']\n",
    "    return df"
   ]
  },
  {
   "cell_type": "code",
   "execution_count": 48,
   "metadata": {
    "collapsed": true
   },
   "outputs": [],
   "source": [
    "def plot_2_1(result_budget_cut_df, result_budget_no_cut_df):\n",
    "    fig, ax = plt.subplots(ncols=2, figsize=(25,15))\n",
    "    ax[0].bar(result_budget_cut_df.index[8:], result_budget_cut_df[8:])\n",
    "    ax[0].set_title('Budget Cut')\n",
    "    ax[0].set_xlabel('Race')\n",
    "    ax[0].set_ylabel('Proportion')\n",
    "    ax[0].set_ylim([0, 1])\n",
    "    \n",
    "    ax[1].bar(result_budget_no_cut_df.index[8:], result_budget_no_cut_df[8:])\n",
    "    ax[1].set_title('No Budget Cut')\n",
    "    ax[1].set_xlabel('Race')\n",
    "    ax[1].set_ylabel('Proportion')\n",
    "    ax[1].set_ylim([0, 1])\n",
    "\n",
    "    fig.suptitle('Distribution of Race for Budget Cut vs No Budget cut')\n",
    "    fig.savefig('../output/2.png')\n",
    "    plt.show()"
   ]
  },
  {
   "cell_type": "code",
   "execution_count": 49,
   "metadata": {
    "collapsed": true
   },
   "outputs": [],
   "source": [
    "def run_2_1(fiscal_df, math_df, demographics_df):\n",
    "    # Get the schools based on the criteria\n",
    "    input_df = math_df[['LEAID', 'ALL_MTH00PCTPROF_1516']]\n",
    "    input_df['ALL_MTH00PCTPROF_1516'] = unblur_column(math_df, 'ALL_MTH00PCTPROF_1516')\n",
    "    \n",
    "    # Get the 75 percent quartile as the cutoff criteria\n",
    "    seventy_five_percent_quantile = input_df['ALL_MTH00PCTPROF_1516'].quantile(.75)\n",
    "    input_df['BUDGET_CUT_FLAG'] = input_df['ALL_MTH00PCTPROF_1516']<seventy_five_percent_quantile\n",
    "    \n",
    "    input_df = pd.merge(input_df, demographics_df, on='LEAID')    \n",
    "    result_budget_cut_df = input_df[input_df['BUDGET_CUT_FLAG'] == True][['AM', 'AS','HI', 'BL', 'WH', 'HP', 'TR', 'TOTAL']].sum()\n",
    "    result_budget_no_cut_df = input_df[input_df['BUDGET_CUT_FLAG'] == False][['AM', 'AS','HI', 'BL', 'WH', 'HP', 'TR', 'TOTAL']].sum()\n",
    "    \n",
    "    result_budget_cut_df = get_proportion_2_1(result_budget_cut_df)\n",
    "    result_budget_no_cut_df = get_proportion_2_1(result_budget_no_cut_df)\n",
    "    \n",
    "    plot_2_1(result_budget_cut_df, result_budget_no_cut_df)"
   ]
  },
  {
   "cell_type": "code",
   "execution_count": 50,
   "metadata": {},
   "outputs": [
    {
     "name": "stderr",
     "output_type": "stream",
     "text": [
      "/Users/karangm/PycharmProjects/ds5500-hw4/venv/lib/python3.6/site-packages/ipykernel_launcher.py:4: SettingWithCopyWarning: \n",
      "A value is trying to be set on a copy of a slice from a DataFrame.\n",
      "Try using .loc[row_indexer,col_indexer] = value instead\n",
      "\n",
      "See the caveats in the documentation: http://pandas.pydata.org/pandas-docs/stable/user_guide/indexing.html#returning-a-view-versus-a-copy\n",
      "  after removing the cwd from sys.path.\n",
      "/Users/karangm/PycharmProjects/ds5500-hw4/venv/lib/python3.6/site-packages/ipykernel_launcher.py:8: SettingWithCopyWarning: \n",
      "A value is trying to be set on a copy of a slice from a DataFrame.\n",
      "Try using .loc[row_indexer,col_indexer] = value instead\n",
      "\n",
      "See the caveats in the documentation: http://pandas.pydata.org/pandas-docs/stable/user_guide/indexing.html#returning-a-view-versus-a-copy\n",
      "  \n"
     ]
    },
    {
     "data": {
      "image/png": "[encoded data removed]",
      "text/plain": [
       "<Figure size 1800x1080 with 2 Axes>"
      ]
     },
     "metadata": {
      "needs_background": "light"
     },
     "output_type": "display_data"
    }
   ],
   "source": [
    "run_2_1(fiscal_df, math_df, demographics_df)"
   ]
  },
  {
   "cell_type": "markdown",
   "metadata": {},
   "source": [
    "You can clearly observe race - BL_Proportion proportion is significantly higher in the districts that received budget cuts. Looks like solution incorporated bias."
   ]
  },
  {
   "cell_type": "markdown",
   "metadata": {
    "collapsed": true
   },
   "source": [
    "### Problem 3\n",
    "\n",
    "Calculate the proportion of enrolled students by disability status (students with an IEP under IDEA) for each district, then visualize the distributions of these proportions for districts that received budget cuts versus districts that did not receive budget cuts.\n",
    "\n",
    "Comment on whether the the distributions appear to be the same or different. Did your selection include any\n",
    "hidden biases, or manage to avoid them?"
   ]
  },
  {
   "cell_type": "code",
   "execution_count": 51,
   "metadata": {
    "collapsed": true
   },
   "outputs": [],
   "source": [
    "def get_proportion_3_1(df):\n",
    "    df['Disability_Proportion'] = df['SPECED'] / df['TOTAL']\n",
    "    return df"
   ]
  },
  {
   "cell_type": "code",
   "execution_count": 52,
   "metadata": {
    "collapsed": true
   },
   "outputs": [],
   "source": [
    "def plot_3_1(result_budget_cut_df, result_budget_no_cut_df):\n",
    "    print(result_budget_cut_df, result_budget_no_cut_df)\n",
    "    fig, ax = plt.subplots(ncols=2, figsize=(25,15))\n",
    "    ax[0].bar(result_budget_cut_df.index[2:], result_budget_cut_df[2:])\n",
    "    ax[0].set_title('Budget Cut')\n",
    "    ax[0].set_ylabel('Proportion')\n",
    "    ax[0].set_ylim([0, 0.2])\n",
    "    \n",
    "    ax[1].bar(result_budget_no_cut_df.index[2:], result_budget_no_cut_df[2:])\n",
    "    ax[1].set_title('No Budget Cut')\n",
    "    ax[1].set_ylabel('Proportion')\n",
    "    ax[1].set_ylim([0, 0.2])\n",
    "\n",
    "    fig.suptitle('Distribution of Disability for Budget Cut vs No Budget cut')\n",
    "    fig.savefig('../output/3.png')\n",
    "    plt.show()"
   ]
  },
  {
   "cell_type": "code",
   "execution_count": 53,
   "metadata": {
    "collapsed": true
   },
   "outputs": [],
   "source": [
    "def run_3_1(fiscal_df, math_df, demographics_df, disability_df):\n",
    "    # Get the schools based on the criteria\n",
    "    input_df = math_df[['LEAID', 'ALL_MTH00PCTPROF_1516']]\n",
    "    input_df['ALL_MTH00PCTPROF_1516'] = unblur_column(math_df, 'ALL_MTH00PCTPROF_1516')\n",
    "    \n",
    "    # Get the 75 percent quartile as the cutoff criteria\n",
    "    seventy_five_percent_quantile = input_df['ALL_MTH00PCTPROF_1516'].quantile(.75)\n",
    "    input_df['BUDGET_CUT_FLAG'] = input_df['ALL_MTH00PCTPROF_1516'] < seventy_five_percent_quantile\n",
    "    \n",
    "    input_df = pd.merge(input_df, disability_df[['LEAID','SPECED']], on='LEAID')   \n",
    "    input_df = pd.merge(input_df, demographics_df[['LEAID','TOTAL']], on='LEAID') \n",
    "    result_budget_cut_df = input_df[input_df['BUDGET_CUT_FLAG'] == True][['SPECED', 'TOTAL']].sum()\n",
    "    result_budget_no_cut_df = input_df[input_df['BUDGET_CUT_FLAG'] == False][['SPECED', 'TOTAL']].sum()\n",
    "      \n",
    "    result_budget_cut_df = get_proportion_3_1(result_budget_cut_df)\n",
    "    result_budget_no_cut_df = get_proportion_3_1(result_budget_no_cut_df)\n",
    "    \n",
    "    plot_3_1(result_budget_cut_df, result_budget_no_cut_df)"
   ]
  },
  {
   "cell_type": "code",
   "execution_count": 54,
   "metadata": {},
   "outputs": [
    {
     "name": "stderr",
     "output_type": "stream",
     "text": [
      "/Users/karangm/PycharmProjects/ds5500-hw4/venv/lib/python3.6/site-packages/ipykernel_launcher.py:4: SettingWithCopyWarning: \n",
      "A value is trying to be set on a copy of a slice from a DataFrame.\n",
      "Try using .loc[row_indexer,col_indexer] = value instead\n",
      "\n",
      "See the caveats in the documentation: http://pandas.pydata.org/pandas-docs/stable/user_guide/indexing.html#returning-a-view-versus-a-copy\n",
      "  after removing the cwd from sys.path.\n",
      "/Users/karangm/PycharmProjects/ds5500-hw4/venv/lib/python3.6/site-packages/ipykernel_launcher.py:8: SettingWithCopyWarning: \n",
      "A value is trying to be set on a copy of a slice from a DataFrame.\n",
      "Try using .loc[row_indexer,col_indexer] = value instead\n",
      "\n",
      "See the caveats in the documentation: http://pandas.pydata.org/pandas-docs/stable/user_guide/indexing.html#returning-a-view-versus-a-copy\n",
      "  \n"
     ]
    },
    {
     "name": "stdout",
     "output_type": "stream",
     "text": [
      "SPECED                   5.154194e+06\n",
      "TOTAL                    3.740810e+07\n",
      "Disability_Proportion    1.377828e-01\n",
      "dtype: float64 SPECED                   1.487897e+06\n",
      "TOTAL                    1.299626e+07\n",
      "Disability_Proportion    1.144866e-01\n",
      "dtype: float64\n"
     ]
    },
    {
     "data": {
      "image/png": "[encoded data removed]",
      "text/plain": [
       "<Figure size 1800x1080 with 2 Axes>"
      ]
     },
     "metadata": {
      "needs_background": "light"
     },
     "output_type": "display_data"
    }
   ],
   "source": [
    "run_3_1(fiscal_df, math_df, demographics_df, disability_df)"
   ]
  },
  {
   "cell_type": "markdown",
   "metadata": {},
   "source": [
    "The proportion disability distribution for budget cut districts and no budget cut districts seems to be very close to each other. Very negligible bias."
   ]
  },
  {
   "cell_type": "markdown",
   "metadata": {},
   "source": [
    "### Problem 4\n",
    "\n",
    "Choose and critique one of your fellow classmates’ selection of schools for budget cuts in HW 3 Problem 4 and Problem 5. What was the justification of their selection? Discuss any advantages or disadvantages of their approach."
   ]
  },
  {
   "cell_type": "markdown",
   "metadata": {},
   "source": [
    "I chose https://github.com/manvitamarkala/DS-5500-HW3\n",
    "\n",
    "The solution presented did not consider any performance related criteria to identify which of them should have budget cuts. However a surplus was calculated from the total budget a school has and the corresponding expenditure. Sort the districts descending on the surplus budget. If the surplus amount is greater than the federal budget for that particular district, a value equal to a federal amount of that district is substracted from the 15 percent federal budget amount. \n",
    "\n",
    "In a way the solution is appreciable for a fact that only those will be chosen where fedral budget wouldn't matter. However it that could have been combined with a powerful selection critieria, it may have been more effective."
   ]
  },
  {
   "cell_type": "markdown",
   "metadata": {},
   "source": [
    "### Problem 5\n",
    "Summarize and comment on what you learned from one the special topics lectures (MapReduce + Hadoop, Visualization, Causal Inference, or the Industry Panel) of your choice."
   ]
  },
  {
   "cell_type": "markdown",
   "metadata": {},
   "source": [
    "I would like to talk about the MapReduce + Hadoop lecture. The lecturer started off with clear explanation of why we need Map Reduce kind of environment to process Big Data. The explanation was in simpler terms and even a student with no prior knowledge can get a clear understanding. He also threw in some important facts about how Map Reduce was originally started by a professor in Northeastern University. Overall a nice lecture."
   ]
  },
  {
   "cell_type": "code",
   "execution_count": null,
   "metadata": {
    "collapsed": true
   },
   "outputs": [],
   "source": []
  }
 ],
 "metadata": {
  "kernelspec": {
   "display_name": "ds5500-hw4",
   "language": "python",
   "name": "ds5500-hw4"
  },
  "language_info": {
   "codemirror_mode": {
    "name": "ipython",
    "version": 3
   },
   "file_extension": ".py",
   "mimetype": "text/x-python",
   "name": "python",
   "nbconvert_exporter": "python",
   "pygments_lexer": "ipython3",
   "version": "3.6.4"
  }
 },
 "nbformat": 4,
 "nbformat_minor": 2
}
