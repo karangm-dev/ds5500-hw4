{
 "cells": [
  {
   "cell_type": "markdown",
   "metadata": {},
   "source": [
    "## Overview\n",
    "\n",
    "This homework assignment continues to use school data from the previous assignment.\n",
    "\n",
    "Download the 2015-16 district-level fiscal data from the National Center for Education Statistics’ Common Core of Data:\n",
    "• https://nces.ed.gov/ccd/f33agency.asp\n",
    "\n",
    "The 2015-16 performance statistics on graduation rate and state assessments on mathematics and reading/language arts are available from the EDFacts website:\n",
    "• https://www2.ed.gov/about/inits/ed/edfacts/data-files/index.html\n",
    "\n",
    "Additionally, the 2015-16 district-level “universe” survey data provides statistics about enrollment disaggregated by demographics like gender, race, disability status, etc:\n",
    "• https://nces.ed.gov/ccd/pubagency.asp\n",
    "\n",
    "These datasets can be linked based on the LEA IDs."
   ]
  },
  {
   "cell_type": "code",
   "execution_count": 1,
   "metadata": {
    "collapsed": true
   },
   "outputs": [],
   "source": [
    "import numpy as np\n",
    "import pandas as pd \n",
    "import matplotlib.pyplot as plt\n",
    "import seaborn as sns\n",
    "import random\n",
    "\n",
    "%matplotlib inline"
   ]
  },
  {
   "cell_type": "code",
   "execution_count": 2,
   "metadata": {
    "collapsed": true
   },
   "outputs": [],
   "source": [
    "def load_data():\n",
    "    fiscal_df = pd.read_csv('../input/Sdf16_1a.txt', sep='\\t')\n",
    "    math_df = pd.read_csv('../input//math-achievement-lea-sy2015-16.csv')\n",
    "    arts_df = pd.read_csv('../input/rla-achievement-lea-sy2015-16.csv')\n",
    "    demographics_df = pd.read_csv('../input/ccd_lea_052_1516_w_1a_011717.csv')\n",
    "    disability_df = pd.read_csv('../input/ccd_lea_002089_1516_w_1a_011717.csv')\n",
    "    return fiscal_df, math_df, arts_df, demographics_df, disability_df"
   ]
  },
  {
   "cell_type": "code",
   "execution_count": 3,
   "metadata": {},
   "outputs": [
    {
     "name": "stderr",
     "output_type": "stream",
     "text": [
      "/Users/karangm/PycharmProjects/ds5500-hw4/venv/lib/python3.6/site-packages/IPython/core/interactiveshell.py:3242: DtypeWarning: Columns (0,3) have mixed types. Specify dtype option on import or set low_memory=False.\n",
      "  if (await self.run_code(code, result,  async_=asy)):\n",
      "/Users/karangm/PycharmProjects/ds5500-hw4/venv/lib/python3.6/site-packages/IPython/core/interactiveshell.py:3242: DtypeWarning: Columns (17) have mixed types. Specify dtype option on import or set low_memory=False.\n",
      "  if (await self.run_code(code, result,  async_=asy)):\n",
      "/Users/karangm/PycharmProjects/ds5500-hw4/venv/lib/python3.6/site-packages/IPython/core/interactiveshell.py:3242: DtypeWarning: Columns (17,45,129,143) have mixed types. Specify dtype option on import or set low_memory=False.\n",
      "  if (await self.run_code(code, result,  async_=asy)):\n",
      "/Users/karangm/PycharmProjects/ds5500-hw4/venv/lib/python3.6/site-packages/IPython/core/interactiveshell.py:3242: DtypeWarning: Columns (6) have mixed types. Specify dtype option on import or set low_memory=False.\n",
      "  if (await self.run_code(code, result,  async_=asy)):\n"
     ]
    }
   ],
   "source": [
    "fiscal_df, math_df, arts_df, demographics_df, disability_df = load_data()\n",
    "fiscal_df = fiscal_df[fiscal_df['TFEDREV']>0]"
   ]
  },
  {
   "cell_type": "markdown",
   "metadata": {},
   "source": [
    "### Problem 1\n",
    "\n",
    "For the districts you selected for budget cuts in HW 3 Problem 4, calculate and visualize the proportion of\n",
    "each district’s total funding that will be lost.\n",
    "\n",
    "Which districts will be affected by your budget cuts the most?"
   ]
  },
  {
   "cell_type": "code",
   "execution_count": 4,
   "metadata": {
    "collapsed": true
   },
   "outputs": [],
   "source": [
    "def unblur_column(math_df, column_name):\n",
    "    column_new_values = []\n",
    "    column_old_values = math_df[column_name]\n",
    "#     column_old_values = ['42', '45-49', 'LT50', 'LE20', 'GT20', 'GE50']\n",
    "    for value in column_old_values:\n",
    "        new_value = None\n",
    "        if '-' in value:\n",
    "            value_array = value.split('-')\n",
    "            new_value = random.randint(int(value_array[0]), int(value_array[1]))\n",
    "        elif 'LT' in value:\n",
    "            begin = 0\n",
    "            end = int(value[2:])\n",
    "            new_value = random.randrange(begin, end)\n",
    "        elif 'LE' in value:\n",
    "            begin = 0\n",
    "            end = int(value[2:])\n",
    "            new_value = random.randint(begin, end)\n",
    "        elif 'GT' in value:\n",
    "            begin = int(value[2:]) + 1\n",
    "            end = 100\n",
    "            new_value = random.randint(begin, end)\n",
    "        elif 'GE' in value:\n",
    "            begin = int(value[2:])\n",
    "            end = 100\n",
    "            new_value = random.randint(begin, end)\n",
    "        elif 'PS' in value:\n",
    "            new_value = random.randint(0, 100)\n",
    "        else:\n",
    "            new_value = int(value)\n",
    "        column_new_values.append(new_value)\n",
    "    return column_new_values"
   ]
  },
  {
   "cell_type": "code",
   "execution_count": 5,
   "metadata": {
    "collapsed": true
   },
   "outputs": [],
   "source": [
    "def run_1_1(fiscal_df):\n",
    "    sum_value = fiscal_df[['TFEDREV']].sum().values\n",
    "    result = sum_value * 0.15\n",
    "    return result"
   ]
  },
  {
   "cell_type": "code",
   "execution_count": 6,
   "metadata": {
    "collapsed": true
   },
   "outputs": [],
   "source": [
    "def run_1_2(fiscal_df, math_df, fifteen_percent_fed_budget):\n",
    "    # Get the schools based on the criteria\n",
    "    input_df = math_df[['LEAID', 'ALL_MTH00PCTPROF_1516']]\n",
    "    input_df['ALL_MTH00PCTPROF_1516'] = unblur_column(math_df, 'ALL_MTH00PCTPROF_1516')\n",
    "    \n",
    "    # Get the 75 percent quartile as the cutoff criteria\n",
    "    seventy_five_percent_quantile = input_df['ALL_MTH00PCTPROF_1516'].quantile(.75)\n",
    "    filtered_df = input_df[input_df['ALL_MTH00PCTPROF_1516']<seventy_five_percent_quantile]\n",
    "\n",
    "    # Get the lead_ids for which budget has been approved\n",
    "    approved_lead_ids = list(filtered_df['LEAID'].unique())\n",
    "    \n",
    "    result_df = fiscal_df[fiscal_df['LEAID'].isin(approved_lead_ids)][['LEAID', 'NAME', 'TFEDREV']]\n",
    "    result_df['percentage_cut'] = result_df['TFEDREV']/result_df['TFEDREV'].sum()\n",
    "    result_df['cut_amount'] = result_df['percentage_cut'] * fifteen_percent_fed_budget\n",
    "    result_df['cut_proportion'] = result_df['cut_amount']/result_df['TFEDREV']\n",
    "    result_df.sort_values(by='percentage_cut', ascending=True, inplace=True)\n",
    "    print(result_df)\n",
    "    result_df.sort_values(by='cut_proportion', ascending=True, inplace=True)\n",
    "    \n",
    "    return result_df"
   ]
  },
  {
   "cell_type": "code",
   "execution_count": 7,
   "metadata": {
    "collapsed": true
   },
   "outputs": [],
   "source": [
    "def run_1(fiscal_df, math_df):\n",
    "    fifteen_percent_fed_budget = run_1_1(fiscal_df)\n",
    "    print(\"15 percent of federal budget is: {}\".format(fifteen_percent_fed_budget))\n",
    "    result_df = run_1_2(fiscal_df, math_df, fifteen_percent_fed_budget)\n",
    "    print(result_df[['LEAID', 'NAME', 'percentage_cut', 'cut_amount', 'cut_proportion']])"
   ]
  },
  {
   "cell_type": "code",
   "execution_count": 8,
   "metadata": {},
   "outputs": [
    {
     "name": "stdout",
     "output_type": "stream",
     "text": [
      "15 percent of federal budget is: [8.3404113e+09]\n",
      "         LEAID                               NAME     TFEDREV  percentage_cut  \\\n",
      "7027   2601042                 Branch Line School        1000    5.621097e-08   \n",
      "727     400931                ECA - Arizona  Inc.        2000    1.124219e-07   \n",
      "6794   2600121       Honey Creek Community School        2000    1.124219e-07   \n",
      "9157   3004920                      Broadview H S        3000    1.686329e-07   \n",
      "391     400278  Deer Valley Charter Schools  Inc.        3000    1.686329e-07   \n",
      "...        ...                                ...         ...             ...   \n",
      "7232   2612000       Detroit City School District   193905000    1.089959e-02   \n",
      "15635  4700148                      Shelby County   212572000    1.194888e-02   \n",
      "15038  4218990               Philadelphia City SD   271369000    1.525391e-02   \n",
      "9784   3200060       CLARK COUNTY SCHOOL DISTRICT   277628000    1.560574e-02   \n",
      "1904    622710                Los Angeles Unified  1091400000    6.134865e-02   \n",
      "\n",
      "         cut_amount  cut_proportion  \n",
      "7027   4.688226e+02        0.468823  \n",
      "727    9.376452e+02        0.468823  \n",
      "6794   9.376452e+02        0.468823  \n",
      "9157   1.406468e+03        0.468823  \n",
      "391    1.406468e+03        0.468823  \n",
      "...             ...             ...  \n",
      "7232   9.090705e+07        0.468823  \n",
      "15635  9.965856e+07        0.468823  \n",
      "15038  1.272239e+08        0.468823  \n",
      "9784   1.301583e+08        0.468823  \n",
      "1904   5.116730e+08        0.468823  \n",
      "\n",
      "[5637 rows x 6 columns]\n",
      "         LEAID                                NAME  percentage_cut  \\\n",
      "1226    513930       WATSON CHAPEL SCHOOL DISTRICT        0.000170   \n",
      "1637    609570                      Colusa Unified        0.000064   \n",
      "8454   2900576              PREMIER CHARTER SCHOOL        0.000064   \n",
      "8252   2744160  WORTHINGTON PUBLIC SCHOOL DISTRICT        0.000168   \n",
      "15846  4800105     WAXAHACHIE FAITH FAMILY ACADEMY        0.000168   \n",
      "...        ...                                 ...             ...   \n",
      "1047    502880               BEEBE SCHOOL DISTRICT        0.000166   \n",
      "1078    504590              CONWAY SCHOOL DISTRICT        0.000504   \n",
      "1877    621420                              Lennox        0.000499   \n",
      "18514  5511850         Platteville School District        0.000064   \n",
      "9143   3003900                        Billings H S        0.000262   \n",
      "\n",
      "         cut_amount  cut_proportion  \n",
      "1226   1.417720e+06        0.468823  \n",
      "1637   5.339889e+05        0.468823  \n",
      "8454   5.330513e+05        0.468823  \n",
      "8252   1.405061e+06        0.468823  \n",
      "15846  1.403655e+06        0.468823  \n",
      "...             ...             ...  \n",
      "1047   1.380683e+06        0.468823  \n",
      "1078   4.202057e+06        0.468823  \n",
      "1877   4.158925e+06        0.468823  \n",
      "18514  5.321137e+05        0.468823  \n",
      "9143   2.186120e+06        0.468823  \n",
      "\n",
      "[5637 rows x 5 columns]\n"
     ]
    },
    {
     "name": "stderr",
     "output_type": "stream",
     "text": [
      "/Users/karangm/PycharmProjects/ds5500-hw4/venv/lib/python3.6/site-packages/ipykernel_launcher.py:4: SettingWithCopyWarning: \n",
      "A value is trying to be set on a copy of a slice from a DataFrame.\n",
      "Try using .loc[row_indexer,col_indexer] = value instead\n",
      "\n",
      "See the caveats in the documentation: http://pandas.pydata.org/pandas-docs/stable/user_guide/indexing.html#returning-a-view-versus-a-copy\n",
      "  after removing the cwd from sys.path.\n"
     ]
    }
   ],
   "source": [
    "run_1(fiscal_df, math_df)"
   ]
  },
  {
   "cell_type": "markdown",
   "metadata": {
    "collapsed": true
   },
   "source": [
    "Philadelphia City SD, CLARK COUNTY SCHOOL DISTRICT & Los Angeles Unified will have the highest percentage of budget cuts in amount. \n",
    "\n",
    "But if take the proportions, for all the schools which has budget cuts it will have the same proportion because of the solution proposed.\n",
    "\n",
    "To explain on that, to do the budget cut after we filtered schools on a particular criteria,\n",
    "1. Calculate the 15% of the total budget amount -> fifteen_percent_fed_budget\n",
    "2. For each potential case, we take the ('TFEDREV' of a case)/Sum of all ('TFEDREV' of a case) -> percentage_cut\n",
    "3. percentage_cut * fifteen_percent_fed_budget to get value for each potential case -> budget_cut_for_a_case\n",
    "4. If we put all in one formula:\n",
    "   (('TFEDREV' of a case)/Sum of all ('TFEDREV' of a case)) * fifteen_percent_fed_budget =  budget_cut_for_a_case\n",
    "5. To calculate proportion, we have to calculate budget_cut_for_a_case/('TFEDREV' of a case) which will be equal to fifteen_percent_fed_budget/Sum of all ('TFEDREV' of a case)) which is a constant"
   ]
  },
  {
   "cell_type": "markdown",
   "metadata": {},
   "source": [
    "### Problem 2\n",
    "\n",
    "A common problem with purely data-driven solutions is that they can inadvertently perpetuate hidden pre-existing biases in the data, and further disadvantage groups that are already disadvantaged. Calculate the proportion of enrolled students by race for each district, then visualize the distributions of these for districts that received budget cuts versus districts that did not receive budget cuts. Comment on whether the the distributions appear to be the same or different. Did your selection include any hidden biases, or manage to avoid them?"
   ]
  },
  {
   "cell_type": "code",
   "execution_count": 9,
   "metadata": {
    "collapsed": true
   },
   "outputs": [],
   "source": [
    "def get_proportion_2_1(df):\n",
    "    df['BL_Proportion'] = df['BL'] / df['TOTAL']\n",
    "    df['AM_Proportion'] = df['AM'] / df['TOTAL']\n",
    "    df['HP_Proportion'] = df['HP'] / df['TOTAL']\n",
    "    df['AS_Proportion'] = df['AS'] / df['TOTAL']\n",
    "    df['WH_Proportion'] = df['WH'] / df['TOTAL']\n",
    "    df['HI_Proportion'] = df['HI'] / df['TOTAL']\n",
    "    df['TR_Proportion'] = df['TR'] / df['TOTAL']\n",
    "    return df"
   ]
  },
  {
   "cell_type": "code",
   "execution_count": 16,
   "metadata": {
    "collapsed": true
   },
   "outputs": [],
   "source": [
    "def plot_2_1(result_budget_cut_df, result_budget_no_cut_df):\n",
    "    fig, ax = plt.subplots(ncols=2, figsize=(25,15))\n",
    "    ax[0].bar(result_budget_cut_df.index[8:], result_budget_cut_df[8:])\n",
    "    ax[0].set_title('Budget Cut')\n",
    "    ax[0].set_xlabel('Race')\n",
    "    ax[0].set_ylabel('Proportion')\n",
    "    ax[0].set_ylim([0, 1])\n",
    "    \n",
    "    ax[1].bar(result_budget_no_cut_df.index[8:], result_budget_no_cut_df[8:])\n",
    "    ax[1].set_title('No Budget Cut')\n",
    "    ax[1].set_xlabel('Race')\n",
    "    ax[1].set_ylabel('Proportion')\n",
    "    ax[1].set_ylim([0, 1])\n",
    "\n",
    "    fig.suptitle('Distribution of Race for Budget Cut vs No Budget cut')\n",
    "    fig.savefig('../output/2.png')\n",
    "    plt.show()"
   ]
  },
  {
   "cell_type": "code",
   "execution_count": 17,
   "metadata": {
    "collapsed": true
   },
   "outputs": [],
   "source": [
    "def run_2_1(fiscal_df, math_df, demographics_df):\n",
    "    # Get the schools based on the criteria\n",
    "    input_df = math_df[['LEAID', 'ALL_MTH00PCTPROF_1516']]\n",
    "    input_df['ALL_MTH00PCTPROF_1516'] = unblur_column(math_df, 'ALL_MTH00PCTPROF_1516')\n",
    "    \n",
    "    # Get the 75 percent quartile as the cutoff criteria\n",
    "    seventy_five_percent_quantile = input_df['ALL_MTH00PCTPROF_1516'].quantile(.75)\n",
    "    input_df['BUDGET_CUT_FLAG'] = input_df['ALL_MTH00PCTPROF_1516']<seventy_five_percent_quantile\n",
    "    \n",
    "    input_df = pd.merge(input_df, demographics_df, on='LEAID')    \n",
    "    result_budget_cut_df = input_df[input_df['BUDGET_CUT_FLAG'] == True][['AM', 'AS','HI', 'BL', 'WH', 'HP', 'TR', 'TOTAL']].sum()\n",
    "    result_budget_no_cut_df = input_df[input_df['BUDGET_CUT_FLAG'] == False][['AM', 'AS','HI', 'BL', 'WH', 'HP', 'TR', 'TOTAL']].sum()\n",
    "    \n",
    "    result_budget_cut_df = get_proportion_2_1(result_budget_cut_df)\n",
    "    result_budget_no_cut_df = get_proportion_2_1(result_budget_no_cut_df)\n",
    "    \n",
    "    plot_2_1(result_budget_cut_df, result_budget_no_cut_df)"
   ]
  },
  {
   "cell_type": "code",
   "execution_count": 18,
   "metadata": {},
   "outputs": [
    {
     "name": "stderr",
     "output_type": "stream",
     "text": [
      "/Users/karangm/PycharmProjects/ds5500-hw4/venv/lib/python3.6/site-packages/ipykernel_launcher.py:4: SettingWithCopyWarning: \n",
      "A value is trying to be set on a copy of a slice from a DataFrame.\n",
      "Try using .loc[row_indexer,col_indexer] = value instead\n",
      "\n",
      "See the caveats in the documentation: http://pandas.pydata.org/pandas-docs/stable/user_guide/indexing.html#returning-a-view-versus-a-copy\n",
      "  after removing the cwd from sys.path.\n",
      "/Users/karangm/PycharmProjects/ds5500-hw4/venv/lib/python3.6/site-packages/ipykernel_launcher.py:8: SettingWithCopyWarning: \n",
      "A value is trying to be set on a copy of a slice from a DataFrame.\n",
      "Try using .loc[row_indexer,col_indexer] = value instead\n",
      "\n",
      "See the caveats in the documentation: http://pandas.pydata.org/pandas-docs/stable/user_guide/indexing.html#returning-a-view-versus-a-copy\n",
      "  \n"
     ]
    },
    {
     "data": {
      "image/png": "[encoded data removed]",
      "text/plain": [
       "<Figure size 1800x1080 with 2 Axes>"
      ]
     },
     "metadata": {
      "needs_background": "light"
     },
     "output_type": "display_data"
    }
   ],
   "source": [
    "run_2_1(fiscal_df, math_df, demographics_df)"
   ]
  },
  {
   "cell_type": "markdown",
   "metadata": {},
   "source": [
    "The selection criteria did not include any bias. You can clearly observe race - BL_Proportion proportion budget cut is significantly higher in the districts that received budget cuts and for other races like WH - there are observable differences."
   ]
  },
  {
   "cell_type": "markdown",
   "metadata": {
    "collapsed": true
   },
   "source": [
    "### Problem 3\n",
    "\n",
    "Calculate the proportion of enrolled students by disability status (students with an IEP under IDEA) for each district, then visualize the distributions of these proportions for districts that received budget cuts versus districts that did not receive budget cuts.\n",
    "\n",
    "Comment on whether the the distributions appear to be the same or different. Did your selection include any\n",
    "hidden biases, or manage to avoid them?"
   ]
  },
  {
   "cell_type": "code",
   "execution_count": 19,
   "metadata": {
    "collapsed": true
   },
   "outputs": [],
   "source": [
    "def get_proportion_3_1(df):\n",
    "    df['Disability_Proportion'] = df['SPECED'] / df['TOTAL']\n",
    "    return df"
   ]
  },
  {
   "cell_type": "code",
   "execution_count": 26,
   "metadata": {
    "collapsed": true
   },
   "outputs": [],
   "source": [
    "def plot_3_1(result_budget_cut_df, result_budget_no_cut_df):\n",
    "    print(result_budget_cut_df, result_budget_no_cut_df)\n",
    "    fig, ax = plt.subplots(ncols=2, figsize=(25,15))\n",
    "    ax[0].bar(result_budget_cut_df.index[2:], result_budget_cut_df[2:])\n",
    "    ax[0].set_title('Budget Cut')\n",
    "    ax[0].set_ylabel('Proportion')\n",
    "    ax[0].set_ylim([0, 0.2])\n",
    "    \n",
    "    ax[1].bar(result_budget_no_cut_df.index[2:], result_budget_no_cut_df[2:])\n",
    "    ax[1].set_title('No Budget Cut')\n",
    "    ax[1].set_ylabel('Proportion')\n",
    "    ax[1].set_ylim([0, 0.2])\n",
    "\n",
    "    fig.suptitle('Distribution of Race for Budget Cut vs No Budget cut')\n",
    "    fig.savefig('../output/2.png')\n",
    "    plt.show()"
   ]
  },
  {
   "cell_type": "code",
   "execution_count": 27,
   "metadata": {
    "collapsed": true
   },
   "outputs": [],
   "source": [
    "def run_3_1(fiscal_df, math_df, demographics_df, disability_df):\n",
    "    # Get the schools based on the criteria\n",
    "    input_df = math_df[['LEAID', 'ALL_MTH00PCTPROF_1516']]\n",
    "    input_df['ALL_MTH00PCTPROF_1516'] = unblur_column(math_df, 'ALL_MTH00PCTPROF_1516')\n",
    "    \n",
    "    # Get the 75 percent quartile as the cutoff criteria\n",
    "    seventy_five_percent_quantile = input_df['ALL_MTH00PCTPROF_1516'].quantile(.75)\n",
    "    input_df['BUDGET_CUT_FLAG'] = input_df['ALL_MTH00PCTPROF_1516'] < seventy_five_percent_quantile\n",
    "    \n",
    "    input_df = pd.merge(input_df, disability_df[['LEAID','SPECED']], on='LEAID')   \n",
    "    input_df = pd.merge(input_df, demographics_df[['LEAID','TOTAL']], on='LEAID') \n",
    "    result_budget_cut_df = input_df[input_df['BUDGET_CUT_FLAG'] == True][['SPECED', 'TOTAL']].sum()\n",
    "    result_budget_no_cut_df = input_df[input_df['BUDGET_CUT_FLAG'] == False][['SPECED', 'TOTAL']].sum()\n",
    "      \n",
    "    result_budget_cut_df = get_proportion_3_1(result_budget_cut_df)\n",
    "    result_budget_no_cut_df = get_proportion_3_1(result_budget_no_cut_df)\n",
    "    \n",
    "    plot_3_1(result_budget_cut_df, result_budget_no_cut_df)"
   ]
  },
  {
   "cell_type": "code",
   "execution_count": 28,
   "metadata": {},
   "outputs": [
    {
     "name": "stderr",
     "output_type": "stream",
     "text": [
      "/Users/karangm/PycharmProjects/ds5500-hw4/venv/lib/python3.6/site-packages/ipykernel_launcher.py:4: SettingWithCopyWarning: \n",
      "A value is trying to be set on a copy of a slice from a DataFrame.\n",
      "Try using .loc[row_indexer,col_indexer] = value instead\n",
      "\n",
      "See the caveats in the documentation: http://pandas.pydata.org/pandas-docs/stable/user_guide/indexing.html#returning-a-view-versus-a-copy\n",
      "  after removing the cwd from sys.path.\n",
      "/Users/karangm/PycharmProjects/ds5500-hw4/venv/lib/python3.6/site-packages/ipykernel_launcher.py:8: SettingWithCopyWarning: \n",
      "A value is trying to be set on a copy of a slice from a DataFrame.\n",
      "Try using .loc[row_indexer,col_indexer] = value instead\n",
      "\n",
      "See the caveats in the documentation: http://pandas.pydata.org/pandas-docs/stable/user_guide/indexing.html#returning-a-view-versus-a-copy\n",
      "  \n"
     ]
    },
    {
     "name": "stdout",
     "output_type": "stream",
     "text": [
      "SPECED                   5.152976e+06\n",
      "TOTAL                    3.739411e+07\n",
      "Disability_Proportion    1.378018e-01\n",
      "dtype: float64 SPECED                   1.489115e+06\n",
      "TOTAL                    1.301025e+07\n",
      "Disability_Proportion    1.144571e-01\n",
      "dtype: float64\n"
     ]
    },
    {
     "data": {
      "image/png": "[encoded data removed]",
      "text/plain": [
       "<Figure size 1800x1080 with 2 Axes>"
      ]
     },
     "metadata": {
      "needs_background": "light"
     },
     "output_type": "display_data"
    }
   ],
   "source": [
    "run_3_1(fiscal_df, math_df, demographics_df, disability_df)"
   ]
  },
  {
   "cell_type": "markdown",
   "metadata": {},
   "source": [
    "The proportion distribution for budget cut districts and no budget cut districts seems to be very close to each other."
   ]
  },
  {
   "cell_type": "markdown",
   "metadata": {},
   "source": [
    "### Problem 4\n",
    "\n",
    "Choose and critique one of your fellow classmates’ selection of schools for budget cuts in HW 3 Problem 4 and Problem 5. What was the justification of their selection? Discuss any advantages or disadvantages of their approach.\n",
    "\n"
   ]
  },
  {
   "cell_type": "markdown",
   "metadata": {},
   "source": [
    "I chose https://github.com/manvitamarkala/DS-5500-HW3\n",
    "\n",
    "The solution presented did not consider any performance related criteria to identify which of them should have budget cuts. However a surplus was calculated from the total budget a school has and the corresponding expenditure. Sort the districts descending on the surplus budget. If the surplus amount is greater than the federal budget for that particular district, a value equal to a federal amount of that district is substracted from the 15 percent federal budget amount. \n",
    "\n",
    "In a way the solution is appreciable for a fact that only those will be chosen where fedral budget wouldn't matter. However it that could have been combined with a powerful selection critieria, it may have been more effective."
   ]
  },
  {
   "cell_type": "markdown",
   "metadata": {},
   "source": [
    "### Problem 5\n",
    "Summarize and comment on what you learned from one the special topics lectures (MapReduce + Hadoop, Visualization, Causal Inference, or the Industry Panel) of your choice."
   ]
  },
  {
   "cell_type": "markdown",
   "metadata": {},
   "source": [
    "I would like to talk about the MapReduce + Hadoop lecture. The lecturer started off with clear explanation of why we need Map Reduce kind of environment to process Big Data. The explanation was in simpler terms and even a student with no prior knowledge can get a clear understanding. He also threw in some important facts about how Map Reduce was originally started by a professor in Northeastern University. Overall a nice lecture."
   ]
  },
  {
   "cell_type": "code",
   "execution_count": null,
   "metadata": {
    "collapsed": true
   },
   "outputs": [],
   "source": []
  }
 ],
 "metadata": {
  "kernelspec": {
   "display_name": "ds5500-hw4",
   "language": "python",
   "name": "ds5500-hw4"
  },
  "language_info": {
   "codemirror_mode": {
    "name": "ipython",
    "version": 3
   },
   "file_extension": ".py",
   "mimetype": "text/x-python",
   "name": "python",
   "nbconvert_exporter": "python",
   "pygments_lexer": "ipython3",
   "version": "3.6.4"
  }
 },
 "nbformat": 4,
 "nbformat_minor": 2
}
